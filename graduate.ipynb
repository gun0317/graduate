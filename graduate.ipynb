{
  "nbformat": 4,
  "nbformat_minor": 0,
  "metadata": {
    "colab": {
      "name": "graduate.ipynb",
      "provenance": [],
      "collapsed_sections": [],
      "toc_visible": true,
      "machine_shape": "hm",
      "include_colab_link": true
    },
    "kernelspec": {
      "name": "python3",
      "display_name": "Python 3"
    }
  },
  "cells": [
    {
      "cell_type": "markdown",
      "metadata": {
        "id": "view-in-github",
        "colab_type": "text"
      },
      "source": [
        "<a href=\"https://colab.research.google.com/github/ilsong/graduate/blob/master/graduate.ipynb\" target=\"_parent\"><img src=\"https://colab.research.google.com/assets/colab-badge.svg\" alt=\"Open In Colab\"/></a>"
      ]
    },
    {
      "cell_type": "markdown",
      "metadata": {
        "id": "InFpn0-hfV_t",
        "colab_type": "text"
      },
      "source": [
        "# **System 정보 확인**\n",
        "---"
      ]
    },
    {
      "cell_type": "code",
      "metadata": {
        "id": "tlGHUhvqKaRO",
        "colab_type": "code",
        "outputId": "6f3929cc-d018-4229-a7e4-c3e7dbc97803",
        "colab": {
          "base_uri": "https://localhost:8080/",
          "height": 140
        }
      },
      "source": [
        "# 사용중인 object들 메모리 사용량\n",
        "import sys\n",
        "\n",
        "# These are the usual ipython objects, including this one you are creating\n",
        "ipython_vars = ['In', 'Out', 'exit', 'quit', 'get_ipython', 'ipython_vars']\n",
        "\n",
        "# Get a sorted list of the objects and their sizes\n",
        "sorted([(x, sys.getsizeof(globals().get(x))) for x in dir() if not x.startswith('_') and x not in sys.modules and x not in ipython_vars], key=lambda x: x[1], reverse=True)[:7]"
      ],
      "execution_count": 0,
      "outputs": [
        {
          "output_type": "execute_result",
          "data": {
            "text/plain": [
              "[('font_list', 528),\n",
              " ('sys_font', 528),\n",
              " ('nanum_font', 344),\n",
              " ('dangling_nodes', 136),\n",
              " ('get_pagerank', 136),\n",
              " ('get_subgraph', 136),\n",
              " ('indegree_dict', 136)]"
            ]
          },
          "metadata": {
            "tags": []
          },
          "execution_count": 30
        }
      ]
    },
    {
      "cell_type": "markdown",
      "metadata": {
        "id": "6D0FsdSh0D6W",
        "colab_type": "text"
      },
      "source": [
        "# **Methods**"
      ]
    },
    {
      "cell_type": "code",
      "metadata": {
        "id": "1-Ms_uOnL3YN",
        "colab_type": "code",
        "colab": {}
      },
      "source": [
        "import re\n",
        "import pickle\n",
        "import json\n",
        "\n",
        "def parseLink(data):\n",
        "    ret = re.split(\"#[sS]-?[0-9]\\.?\", data.split(\"|\")[0].replace(\"\\\\\", \"\").replace(\"\\\\\", \"\"))[0].strip()\n",
        "    return ret\n",
        "\n",
        "# data.json원본 parse하고 동시에 dead link 없앰\n",
        "# redirect의경우 \"#redirect 문서제목\" 이런식으로 되어있으\n",
        "def parseRawData():\n",
        "    parsedData = {}\n",
        "    print(\"Parse Raw Data Start\")\n",
        "    with open(\"/content/drive/My Drive/graduate/data.json\", \"r\", encoding='utf-8-sig') as datafile:\n",
        "        for line in datafile:\n",
        "            temp = json.loads(line)\n",
        "            parsedData[temp['title']] = list(filter(None, list(map(parseLink, temp['link']))))\n",
        "\n",
        "    redirect = {}\n",
        "    redirect_dead = {}\n",
        "    for node in parsedData:\n",
        "        # redirect 문서들\n",
        "        if len(parsedData[node])==1 and '#redirect ' in parsedData[node][0]:\n",
        "            link = parsedData[node][0].split(\"#redirect \")[1]\n",
        "            # 유효 redirect link\n",
        "            if link in parsedData and link != node:\n",
        "                redirect[node] = link\n",
        "                parsedData[node] = {link: 1}\n",
        "            # 무효 link, 1-depth self-redirect link -> dead redirect link\n",
        "            else:\n",
        "                redirect_dead[node] = 1\n",
        "                parsedData[node] = []\n",
        "            continue\n",
        "        \n",
        "        # 비 redirect 문서들\n",
        "        ## 문서안에 self참조 link가 있었음\n",
        "        temp = {}\n",
        "        for link in parsedData[node]:\n",
        "            if link in parsedData and link != node:\n",
        "                if link in temp: temp[link]+=1;\n",
        "                else: temp[link]=1;\n",
        "        parsedData[node] = temp\n",
        "\n",
        "    for node in parsedData:\n",
        "        weight_sum = 0\n",
        "        temp = dict(parsedData[node])\n",
        "        for link in temp:\n",
        "            # redirect 있으면 본문서 나올때까지 타고타고 들어간 후, link를 변경\n",
        "            # A->B->(redirect)C면 A->C로 바꿈\n",
        "            if link in redirect:\n",
        "                redir_link = link\n",
        "                while redir_link in redirect:\n",
        "                    redir_link = redirect[redir_link]\n",
        "                # n-depth self redirect link의 경우 삭제\n",
        "                if redir_link==node:\n",
        "                    del parsedData[node][link]\n",
        "                    continue\n",
        "\n",
        "                if redir_link in parsedData[node]:\n",
        "                    parsedData[node][redir_link] += parsedData[node].pop(link)\n",
        "                else:\n",
        "                    parsedData[node][redir_link] = parsedData[node].pop(link)\n",
        "                weight_sum += parsedData[node][redir_link]\n",
        "            # dead redirect link의 경우 삭제\n",
        "            elif link in redirect_dead:\n",
        "                del parsedData[node][link]\n",
        "            else:\n",
        "                weight_sum += parsedData[node][link]\n",
        "\n",
        "        # 문서내 유효한 link가 없는경우\n",
        "        if weight_sum == 0:\n",
        "            continue\n",
        "        # 문서내 유효한 link가 있는경우, normalize\n",
        "        for link in parsedData[node]:\n",
        "            parsedData[node][link] /= weight_sum\n",
        "\n",
        "    # Delete Redirect -> 모든 redirect link를 본문서로 옮김\n",
        "    for redirect_link in redirect:\n",
        "        del parsedData[redirect_link]\n",
        "    # Dead Redirect Node -> dead는 삭제해야 함\n",
        "    for redirect_link in redirect_dead:\n",
        "        del parsedData[redirect_link]\n",
        "    del redirect\n",
        "    del redirect_dead\n",
        "\n",
        "    print(\"Parse Raw Data Done\")\n",
        "    return parsedData\n",
        "\n",
        "\n",
        "# Dict를 파일로 저장(pickle) size크기대로 잘라서 분할 저장함\n",
        "# size=0 이면 하나의 파일로 저장\n",
        "def saveDict(filename, _dict, size=100000):\n",
        "    if not isinstance(filename, str):\n",
        "        raise ValueError(\"file name is not string\")\n",
        "    elif not isinstance(_dict, dict):\n",
        "        raise ValueError(\"dict is not type of dict\")\n",
        "    elif not isinstance(size, int):\n",
        "        raise ValueError(\"size is not type of int\")\n",
        "    elif size < 0:\n",
        "        raise ValueError(\"size must be more then 0\")\n",
        "\n",
        "    print(\"Save Parsed Data Start...\")\n",
        "    # size가 0보다 크면 size만큼 분할해서 저장하고 0이면 한번에 저장\n",
        "    if size > 0:\n",
        "        splited_dict = splitDict(_dict, size)\n",
        "        for idx, e in enumerate(splited_dict):\n",
        "            pickle.dump(e, open('/content/drive/My Drive/graduate/'+filename + str(idx) + \".bin\", \"wb\"))\n",
        "    elif size == 0:\n",
        "        pickle.dump(_dict, open('/content/drive/My Drive/graduate/'+filename + \".bin\", \"wb\"))\n",
        "\n",
        "    print(\"Save Parsed Data Done...\")\n",
        "\n",
        "\n",
        "# \"[filename][idx].bin\" 파일(pickle)을 읽어서 메모리에 로드\n",
        "# [idx]는 range(total)안에서 반복\n",
        "def loadDict(filename, index):\n",
        "    if not isinstance(filename, str):\n",
        "        raise ValueError(\"file name is not string\")\n",
        "    elif not isinstance(index, list):\n",
        "        raise ValueError(\"index is not list\")\n",
        "\n",
        "    print(\"Load Parsed Data Start...\")\n",
        "    data = {}\n",
        "    if index:\n",
        "        for idx in index:\n",
        "            data.update(pickle.load(open('/content/drive/My Drive/graduate/'+filename + str(idx) + \".bin\", \"rb\")))\n",
        "    else:\n",
        "        data.update(pickle.load(open('/content/drive/My Drive/graduate/'+filename + \".bin\", \"rb\")))\n",
        "    print(\"Load Parsed Data Done...\")\n",
        "    return data\n",
        "\n",
        "\n",
        "# 엄청 큰 Dict를 size크기로 쪼개서 배열에 담음\n",
        "def splitDict(_dict, size=100000):\n",
        "    ret = []\n",
        "    temp = {}\n",
        "    for idx, key in enumerate(_dict.keys()):\n",
        "        temp[key] = _dict[key]\n",
        "        if idx > 0 and (idx % size) == 0:\n",
        "            ret.append(temp)\n",
        "            temp = {}\n",
        "    ret.append(temp)\n",
        "    return ret\n",
        "\n",
        "\n",
        "# 노드을 참조하는 부모 노드들을 dict로 리턴\n",
        "# param: 전체 graph, data.keys()\n",
        "def indegree_dict(graph, nodes):\n",
        "    indegree_nodes = {key: [] for key in nodes}\n",
        "    for node in nodes:\n",
        "        for dst in graph[node]:\n",
        "          if dst != node:\n",
        "            try:\n",
        "              indegree_nodes[dst].append(node)\n",
        "              #print(\"No Key Error: (node, dst): \",node,dst)\n",
        "            except KeyError:\n",
        "              #print(\"Key Error: (dst, node): (\",dst,\", \",node,\")\") #,\" data[node]: \",data[node],\" data[dst]: \",data[dst])\n",
        "              continue\n",
        "              \n",
        "    return indegree_nodes\n",
        "\n",
        "  \n",
        "# Dangling nodes를 리턴. key: 노드, value: weight\n",
        "# param: 전체 graph, data.keys()\n",
        "def dangling_nodes(graph, nodes):\n",
        "    dangling_nodes_dict = {}\n",
        "    for node in nodes:\n",
        "        if len(graph[node]) == 0:\n",
        "            dangling_nodes_dict[node] = 1\n",
        "    return dangling_nodes_dict\n",
        "  \n",
        "  \n",
        "# pagerank 리턴\n",
        "# param: 전체 graph, data.keys()\n",
        "def get_pagerank(graph, nodes):\n",
        "    dangling = dangling_nodes(graph,nodes)\n",
        "    return nx.pagerank(graph, dangling)\n",
        "  \n",
        "\n",
        "# 상위 노드, 본인, 하위 노드 및 edge로 구성된 subgraph를 리턴\n",
        "# pagerank를 이용하여 상/하위 노드 각각 점수 상위 n개씩 그래프에 포함\n",
        "# param: 전체 graph, 현재 node, 전체 indegree dict, 전체 pagerank, 개수 n\n",
        "def get_subgraph(graph, cur_node, pagerank, n):\n",
        "    subgraph = {}\n",
        "\n",
        "    predgraph_nodes = []\n",
        "    # cur_node를 가리키고 있는 노드들 pagerank순 n개 구하기\n",
        "    pred = graph.in_edges(cur_node, data=True)\n",
        "    pr_local = {}\n",
        "    for u,v,w in pred:\n",
        "        pr_local[u] = pagerank[u]\n",
        "    predgraph_nodes += sorted(pr_local.items(), key=lambda x:x[1], reverse=True)[:n]\n",
        "    predgraph_nodes = [item[0] for item in predgraph_nodes]\n",
        "    # 자신포함해야함\n",
        "    predgraph_nodes.append(cur_node)\n",
        "    subgraph['predgraph'] = graph.subgraph(predgraph_nodes)\n",
        "    \n",
        "    succgraph_nodes = []\n",
        "    # cur_node가 가리키고 있는 노드들 pagerank순 n개 구하기\n",
        "    pr_local.clear()\n",
        "    succ = graph.out_edges(cur_node, data=True)\n",
        "    for u,v,w in succ:\n",
        "        pr_local[v] = pagerank[v]\n",
        "    succgraph_nodes += sorted(pr_local.items(), key=lambda x:x[1], reverse=True)[:n]\n",
        "    succgraph_nodes = [item[0] for item in succgraph_nodes]\n",
        "    # 자신포함해야함\n",
        "    succgraph_nodes.append(cur_node)\n",
        "    subgraph['succgraph'] = graph.subgraph(succgraph_nodes)\n",
        "\n",
        "    return subgraph\n",
        "\n",
        "# TODO: subgraph를 시각화 - 한글 폰트 문제 해결해야함 + cur_node는 표시를 다르게 + weight에 따라 width 조절"
      ],
      "execution_count": 0,
      "outputs": []
    },
    {
      "cell_type": "markdown",
      "metadata": {
        "id": "3KWZUCHQ0Kyg",
        "colab_type": "text"
      },
      "source": [
        "# **Data 파일 핸들링**\n",
        "---"
      ]
    },
    {
      "cell_type": "markdown",
      "metadata": {
        "id": "JiVNhRWCK8dh",
        "colab_type": "text"
      },
      "source": [
        "> ## 드라이브 Mount"
      ]
    },
    {
      "cell_type": "code",
      "metadata": {
        "id": "qs0kQiM7VOS5",
        "colab_type": "code",
        "outputId": "6ca333b9-f85a-4ac8-eb68-05aff0825bc7",
        "colab": {
          "base_uri": "https://localhost:8080/",
          "height": 125
        }
      },
      "source": [
        "from google.colab import drive\n",
        "\n",
        "drive.mount('/content/drive')"
      ],
      "execution_count": 4,
      "outputs": [
        {
          "output_type": "stream",
          "text": [
            "Go to this URL in a browser: https://accounts.google.com/o/oauth2/auth?client_id=947318989803-6bn6qk8qdgf4n4g3pfee6491hc0brc4i.apps.googleusercontent.com&redirect_uri=urn%3Aietf%3Awg%3Aoauth%3A2.0%3Aoob&scope=email%20https%3A%2F%2Fwww.googleapis.com%2Fauth%2Fdocs.test%20https%3A%2F%2Fwww.googleapis.com%2Fauth%2Fdrive%20https%3A%2F%2Fwww.googleapis.com%2Fauth%2Fdrive.photos.readonly%20https%3A%2F%2Fwww.googleapis.com%2Fauth%2Fpeopleapi.readonly&response_type=code\n",
            "\n",
            "Enter your authorization code:\n",
            "··········\n",
            "Mounted at /content/drive\n"
          ],
          "name": "stdout"
        }
      ]
    },
    {
      "cell_type": "markdown",
      "metadata": {
        "id": "-wLFtGPTLc3L",
        "colab_type": "text"
      },
      "source": [
        "> ## Parse\n",
        "> data.json 파싱하기 - parseRawData"
      ]
    },
    {
      "cell_type": "code",
      "metadata": {
        "id": "cqHfAHbkcs-P",
        "colab_type": "code",
        "outputId": "e37ad8e1-6eba-49aa-abd7-ff9513e4c3a9",
        "colab": {
          "base_uri": "https://localhost:8080/",
          "height": 107
        }
      },
      "source": [
        "# data.json 파싱\n",
        "parsedData = parseRawData()\n",
        "print(\"total number of documents: \", len(parsedData))\n",
        "print(\"성균관대학교\", parsedData[\"성균관대학교\"])"
      ],
      "execution_count": 25,
      "outputs": [
        {
          "output_type": "stream",
          "text": [
            "Parse Raw Data Start\n",
            "Parse Raw Data Done\n",
            "total number of documents:  445748\n",
            "성균관대학교 {'성균관': 0.07142857142857142, '성균관대학교/역사': 0.07142857142857142, '성균관대학교/학부': 0.07142857142857142, '성균관대학교/대학원': 0.07142857142857142, '성균관대학교/캠퍼스': 0.07142857142857142, '성균관대학교/기숙사': 0.07142857142857142, '성균관대학교/총학생회': 0.07142857142857142, '성균관대학교/학생문화': 0.07142857142857142, '성균관대학교/동아리': 0.07142857142857142, '성균관대학교/학내언론': 0.07142857142857142, '성균관대학교/사건사고': 0.07142857142857142, '성균관대학교/출신 인물': 0.07142857142857142, '성대사랑': 0.07142857142857142, '삼성의료원': 0.07142857142857142}\n"
          ],
          "name": "stdout"
        }
      ]
    },
    {
      "cell_type": "markdown",
      "metadata": {
        "id": "xzduRNEbODNb",
        "colab_type": "text"
      },
      "source": [
        "> ## Save\n",
        "> pickle이용해서 data파일로 저장하기 - saveDict"
      ]
    },
    {
      "cell_type": "code",
      "metadata": {
        "id": "3vWDkNNKOCdn",
        "colab_type": "code",
        "colab": {
          "base_uri": "https://localhost:8080/",
          "height": 52
        },
        "outputId": "949250ca-3250-42d1-f4c9-f8a7cb6adf8b"
      },
      "source": [
        "# data파일로 저장하기\n",
        "saveDict('parsedData', parsedData)\n",
        "del parsedData"
      ],
      "execution_count": 4,
      "outputs": [
        {
          "output_type": "stream",
          "text": [
            "Save Parsed Data Start...\n",
            "Save Parsed Data Done...\n"
          ],
          "name": "stdout"
        }
      ]
    },
    {
      "cell_type": "markdown",
      "metadata": {
        "id": "fTOwJjYtLl_j",
        "colab_type": "text"
      },
      "source": [
        "> ## Load\n",
        "> 1. data를 pickle 파일에서 읽어오기 - loadDict"
      ]
    },
    {
      "cell_type": "code",
      "metadata": {
        "id": "0B4dEgpJMIsW",
        "colab_type": "code",
        "outputId": "443fa5c4-5a02-4cc3-c0c3-4d2b3580d122",
        "colab": {
          "base_uri": "https://localhost:8080/",
          "height": 52
        }
      },
      "source": [
        "# data파일에서 읽어오기\n",
        "data = loadDict(\"parsedData\", [0,1,2,3,4])"
      ],
      "execution_count": 6,
      "outputs": [
        {
          "output_type": "stream",
          "text": [
            "Load Parsed Data Start...\n",
            "Load Parsed Data Done...\n"
          ],
          "name": "stdout"
        }
      ]
    },
    {
      "cell_type": "markdown",
      "metadata": {
        "id": "EB5oStiI06jS",
        "colab_type": "text"
      },
      "source": [
        "# **그래프 모듈**\n",
        "---"
      ]
    },
    {
      "cell_type": "markdown",
      "metadata": {
        "id": "-0JIQ90Q1J21",
        "colab_type": "text"
      },
      "source": [
        "> ## 그래프 생성"
      ]
    },
    {
      "cell_type": "code",
      "metadata": {
        "id": "CBxJOMijSvUe",
        "colab_type": "code",
        "colab": {}
      },
      "source": [
        "import networkx as nx"
      ],
      "execution_count": 0,
      "outputs": []
    },
    {
      "cell_type": "code",
      "metadata": {
        "id": "EXUs6jPCo8WO",
        "colab_type": "code",
        "colab": {}
      },
      "source": [
        "# 그래프 생성\n",
        "nx_digraph = nx.DiGraph()\n",
        "\n",
        "# 노드 추가\n",
        "nx_digraph.add_nodes_from(data.keys())\n",
        "\n",
        "# weighted edges 추가\n",
        "bunch_of_edges = []\n",
        "for node in data:\n",
        "    bunch_of_edges += [(node, dst, data[node][dst]) for dst in data[node]]\n",
        "nx_digraph.add_weighted_edges_from(bunch_of_edges)\n",
        "del bunch_of_edges, data\n",
        "\n",
        "print(\"total graph info - \", \"number of nodes: \", nx_digraph.number_of_nodes(), \"number of edges: \", nx_digraph.number_of_edges())"
      ],
      "execution_count": 0,
      "outputs": []
    },
    {
      "cell_type": "markdown",
      "metadata": {
        "id": "nj6tzPMpQm6U",
        "colab_type": "text"
      },
      "source": [
        "> ## 그래프 모델 Save"
      ]
    },
    {
      "cell_type": "code",
      "metadata": {
        "id": "hF_8ReN_OmRa",
        "colab_type": "code",
        "colab": {}
      },
      "source": [
        "nx.write_gpickle(nx_digraph, path=\"/content/drive/My Drive/graduate/graph.bin\")"
      ],
      "execution_count": 0,
      "outputs": []
    },
    {
      "cell_type": "markdown",
      "metadata": {
        "id": "hNcoUi6NQxYV",
        "colab_type": "text"
      },
      "source": [
        "> ## 그래프 모델 Load"
      ]
    },
    {
      "cell_type": "code",
      "metadata": {
        "id": "iDuG_M-lQvm2",
        "colab_type": "code",
        "colab": {
          "base_uri": "https://localhost:8080/",
          "height": 34
        },
        "outputId": "c1471231-c58d-4a4e-cbe5-c99bc77e54ac"
      },
      "source": [
        "nx_digraph = nx.read_gpickle(path=\"/content/drive/My Drive/graduate/graph.bin\")\n",
        "print(\"total graph info - \", \"number of nodes: \", nx_digraph.number_of_nodes(), \"number of edges: \", nx_digraph.number_of_edges())"
      ],
      "execution_count": 5,
      "outputs": [
        {
          "output_type": "stream",
          "text": [
            "total graph info -  number of nodes:  445761 number of edges:  14898963\n"
          ],
          "name": "stdout"
        }
      ]
    },
    {
      "cell_type": "markdown",
      "metadata": {
        "id": "4P7_oYdZEV5F",
        "colab_type": "text"
      },
      "source": [
        "> ## 그래프 분석\n",
        "\n",
        "\n"
      ]
    },
    {
      "cell_type": "markdown",
      "metadata": {
        "id": "9k0rhfpWSESr",
        "colab_type": "text"
      },
      "source": [
        "> ### PageRank"
      ]
    },
    {
      "cell_type": "code",
      "metadata": {
        "id": "JSvNVbJ95tja",
        "colab_type": "code",
        "colab": {}
      },
      "source": [
        "# pagerank로 분석\n",
        "pagerank = nx.pagerank(nx_digraph)"
      ],
      "execution_count": 0,
      "outputs": []
    },
    {
      "cell_type": "code",
      "metadata": {
        "id": "BavgASDJQ-iU",
        "colab_type": "code",
        "colab": {}
      },
      "source": [
        "# pagerank 결과 save\n",
        "pickle.dump(pagerank, open(\"/content/drive/My Drive/graduate/pagerank.bin\", \"wb\"), protocol=4)\n",
        "del pagerank"
      ],
      "execution_count": 0,
      "outputs": []
    },
    {
      "cell_type": "code",
      "metadata": {
        "id": "Gw2Yv-v3RkyM",
        "colab_type": "code",
        "colab": {}
      },
      "source": [
        "# pagerank 결과 load\n",
        "pagerank = pickle.load(open(\"/content/drive/My Drive/graduate/pagerank.bin\", \"rb\"))"
      ],
      "execution_count": 0,
      "outputs": []
    },
    {
      "cell_type": "code",
      "metadata": {
        "id": "ihtfg5RrqPhF",
        "colab_type": "code",
        "colab": {}
      },
      "source": [
        "# 특정 노드와 연결된 노드들중에 pagerank가 높은순 기준으로 subgraph 추출\n",
        "target_node = \"성균관대학교\"\n",
        "subgraph = get_subgraph(nx_digraph, target_node, pagerank, 6)"
      ],
      "execution_count": 0,
      "outputs": []
    },
    {
      "cell_type": "code",
      "metadata": {
        "id": "omhUA-tzNf9M",
        "colab_type": "code",
        "colab": {
          "base_uri": "https://localhost:8080/",
          "height": 52
        },
        "outputId": "b68ebce4-e0af-47b0-a7b8-7d83d54078c2"
      },
      "source": [
        "# target node를 가리키는 노드들로 구성된 그래프 노드들\n",
        "print(\"predgraph nodes\", subgraph['predgraph'].nodes())\n",
        "\n",
        "# target node가 가리키는 노드들로 구성된 그래프 노드들\n",
        "print(\"succgraph nodes\", subgraph['succgraph'].nodes())"
      ],
      "execution_count": 24,
      "outputs": [
        {
          "output_type": "stream",
          "text": [
            "predgraph nodes ['라틴어', '일본', '독일어', '성균관대학교', '2018년', '러시아어', '1998년']\n",
            "succgraph nodes ['삼성의료원', '성균관대학교/동아리', '성균관', '성균관대학교', '성균관대학교/학내언론', '성대사랑', '성균관대학교/캠퍼스']\n"
          ],
          "name": "stdout"
        }
      ]
    }
  ]
}